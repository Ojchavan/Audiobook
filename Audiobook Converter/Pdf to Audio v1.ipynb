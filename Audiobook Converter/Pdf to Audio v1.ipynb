{
 "cells": [
  {
   "cell_type": "markdown",
   "id": "f2073cce",
   "metadata": {},
   "source": [
    "The below script has no GUI interface but uses OPENAI model along with Chunks and Delay to reduced TTS API Error "
   ]
  },
  {
   "cell_type": "code",
   "execution_count": 1,
   "id": "9f028a15",
   "metadata": {},
   "outputs": [],
   "source": [
    "import PyPDF2\n",
    "import pyttsx3\n",
    "import tkinter as tk\n",
    "from tkinter import *\n",
    "from tkinter import Label, Button, filedialog, ttk\n",
    "from tkinter import messagebox as msgb\n",
    "import subprocess\n",
    "from openai import OpenAI\n",
    "from gtts import gTTS\n",
    "import os\n",
    "import shutil\n",
    "import time\n",
    "import re"
   ]
  },
  {
   "cell_type": "code",
   "execution_count": 2,
   "id": "3067ee8d",
   "metadata": {
    "scrolled": true
   },
   "outputs": [
    {
     "name": "stdout",
     "output_type": "stream",
     "text": [
      "Extracting text from PDF...\n",
      "Error reading PDF: [Errno 2] No such file or directory: ''\n",
      "Failed to extract text from PDF.\n"
     ]
    }
   ],
   "source": [
    "# Function to extract text from a PDF file\n",
    "def extract_text_from_pdf(pdf_path):\n",
    "    try:\n",
    "        with open(pdf_path, 'rb') as file:\n",
    "            pdf_reader = PyPDF2.PdfReader(file)\n",
    "            text = []\n",
    "            for page in pdf_reader.pages:\n",
    "                page_text = page.extract_text()\n",
    "                if page_text:\n",
    "                    text.append(page_text.strip())\n",
    "            return \" \".join(text)\n",
    "    except Exception as e:\n",
    "        print(f\"Error reading PDF: {e}\")\n",
    "        return None\n",
    "\n",
    "# Function to summarize text using OpenAI API (new method)\n",
    "def summarize_text_with_openai(text):\n",
    "    try:\n",
    "        openai.api_key = os.getenv(\"OPENAI_API_KEY\")  # Make sure your OpenAI key is set here\n",
    "        \n",
    "        # Using 'gpt-3.5-turbo' model, which works well for conversational and summarization tasks\n",
    "        # Set a reasonable chunk size to avoid token limits\n",
    "        chunk_size = 1500  # Tokens limit for GPT-3.5 is around 4096 tokens, so 1500 characters are safe\n",
    "        summarized_text = []\n",
    "        \n",
    "        # Split the text into chunks if it exceeds the chunk size (for long PDFs)\n",
    "        for i in range(0, len(text), chunk_size):\n",
    "            chunk = text[i:i + chunk_size]\n",
    "            response = openai.ChatCompletion.create(\n",
    "                model=\"gpt-3.5-turbo\",\n",
    "                messages=[\n",
    "                    {\"role\": \"system\", \"content\": \"You are a helpful assistant.\"},\n",
    "                    {\"role\": \"user\", \"content\": f\"Summarize the following text for an audiobook:\\n{chunk}\"}\n",
    "                ],\n",
    "                max_tokens=150,\n",
    "                temperature=0.5\n",
    "            )\n",
    "            summarized_text.append(response['choices'][0]['message']['content'].strip())\n",
    "\n",
    "        # Combine all summarized chunks\n",
    "        return \" \".join(summarized_text)\n",
    "    except Exception as e:\n",
    "        print(f\"Error using OpenAI API: {e}\")\n",
    "        return text  # Return the original text in case of error\n",
    "\n",
    "# Function to convert text to speech using gTTS\n",
    "def text_to_speech(text, output_audio_path):\n",
    "    max_retries = 3\n",
    "    retry_delay = 5  # seconds\n",
    "    for attempt in range(max_retries):\n",
    "        try:\n",
    "            tts = gTTS(text, lang='en')\n",
    "            tts.save(output_audio_path)\n",
    "            print(f\"Audio file saved as {output_audio_path}\")\n",
    "            break\n",
    "        except Exception as e:\n",
    "            if '429' in str(e):\n",
    "                print(f\"Rate limit error: {e}. Retrying in {retry_delay} seconds...\")\n",
    "                time.sleep(retry_delay)\n",
    "            else:\n",
    "                print(f\"Error in text-to-speech conversion: {e}\")\n",
    "                break\n",
    "\n",
    "# Main function\n",
    "def pdf_to_speech(pdf_path, output_audio_path):\n",
    "    print(\"Extracting text from PDF...\")\n",
    "    text = extract_text_from_pdf(pdf_path)\n",
    "    if text:\n",
    "        print(\"Summarizing text with OpenAI API...\")\n",
    "        summarized_text = summarize_text_with_openai(text)\n",
    "        print(\"Converting text to speech...\")\n",
    "        text_to_speech(summarized_text, output_audio_path)\n",
    "    else:\n",
    "        print(\"Failed to extract text from PDF.\")\n",
    "\n",
    "# Usage example\n",
    "if __name__ == \"__main__\":\n",
    "    pdf_path = \"\"  # Replace with your PDF file path\n",
    "    output_audio_path = \"EQDC_NISM.mp3\"  # Output audio file path\n",
    "    pdf_to_speech(pdf_path, output_audio_path)\n"
   ]
  },
  {
   "cell_type": "code",
   "execution_count": null,
   "id": "8346c8e4",
   "metadata": {},
   "outputs": [],
   "source": []
  }
 ],
 "metadata": {
  "kernelspec": {
   "display_name": "Python 3 (ipykernel)",
   "language": "python",
   "name": "python3"
  },
  "language_info": {
   "codemirror_mode": {
    "name": "ipython",
    "version": 3
   },
   "file_extension": ".py",
   "mimetype": "text/x-python",
   "name": "python",
   "nbconvert_exporter": "python",
   "pygments_lexer": "ipython3",
   "version": "3.9.12"
  }
 },
 "nbformat": 4,
 "nbformat_minor": 5
}
