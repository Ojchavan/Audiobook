{
 "cells": [
  {
   "cell_type": "code",
   "execution_count": 2,
   "id": "8414f3cc",
   "metadata": {},
   "outputs": [],
   "source": [
    "from PyPDF2 import PdfReader\n",
    "import pyttsx3\n",
    "import os"
   ]
  },
  {
   "cell_type": "code",
   "execution_count": 2,
   "id": "71efb0bf",
   "metadata": {},
   "outputs": [
    {
     "name": "stdout",
     "output_type": "stream",
     "text": [
      "Chapter Name: Basics of Derivatives.mp3, starts_at=11, ends_at=18\n"
     ]
    },
    {
     "ename": "KeyboardInterrupt",
     "evalue": "",
     "output_type": "error",
     "traceback": [
      "\u001b[0;31m---------------------------------------------------------------------------\u001b[0m",
      "\u001b[0;31mKeyboardInterrupt\u001b[0m                         Traceback (most recent call last)",
      "Input \u001b[0;32mIn [2]\u001b[0m, in \u001b[0;36m<cell line: 52>\u001b[0;34m()\u001b[0m\n\u001b[1;32m     45\u001b[0m         generate_audio_text(\n\u001b[1;32m     46\u001b[0m             pdf_object\u001b[38;5;241m=\u001b[39mreader,\n\u001b[1;32m     47\u001b[0m             chapter_name\u001b[38;5;241m=\u001b[39mchapter_name, \n\u001b[1;32m     48\u001b[0m             start_page\u001b[38;5;241m=\u001b[39mpage_numbers[\u001b[38;5;241m0\u001b[39m],\n\u001b[1;32m     49\u001b[0m             end_page\u001b[38;5;241m=\u001b[39mpage_numbers[\u001b[38;5;241m1\u001b[39m]\n\u001b[1;32m     50\u001b[0m         )\n\u001b[1;32m     52\u001b[0m \u001b[38;5;28;01mif\u001b[39;00m \u001b[38;5;18m__name__\u001b[39m \u001b[38;5;241m==\u001b[39m \u001b[38;5;124m\"\u001b[39m\u001b[38;5;124m__main__\u001b[39m\u001b[38;5;124m\"\u001b[39m:\n\u001b[0;32m---> 53\u001b[0m     \u001b[43mmain\u001b[49m\u001b[43m(\u001b[49m\u001b[43m)\u001b[49m\n",
      "Input \u001b[0;32mIn [2]\u001b[0m, in \u001b[0;36mmain\u001b[0;34m()\u001b[0m\n\u001b[1;32m     42\u001b[0m reader \u001b[38;5;241m=\u001b[39m PdfReader(\u001b[38;5;124m\"\u001b[39m\u001b[38;5;124mNISM Series VIII- Equity Derivatives Certification Examination Workbook - May 2023.pdf\u001b[39m\u001b[38;5;124m\"\u001b[39m)\n\u001b[1;32m     44\u001b[0m \u001b[38;5;28;01mfor\u001b[39;00m chapter_name, page_numbers \u001b[38;5;129;01min\u001b[39;00m chapter_dict\u001b[38;5;241m.\u001b[39mitems():\n\u001b[0;32m---> 45\u001b[0m     \u001b[43mgenerate_audio_text\u001b[49m\u001b[43m(\u001b[49m\n\u001b[1;32m     46\u001b[0m \u001b[43m        \u001b[49m\u001b[43mpdf_object\u001b[49m\u001b[38;5;241;43m=\u001b[39;49m\u001b[43mreader\u001b[49m\u001b[43m,\u001b[49m\n\u001b[1;32m     47\u001b[0m \u001b[43m        \u001b[49m\u001b[43mchapter_name\u001b[49m\u001b[38;5;241;43m=\u001b[39;49m\u001b[43mchapter_name\u001b[49m\u001b[43m,\u001b[49m\u001b[43m \u001b[49m\n\u001b[1;32m     48\u001b[0m \u001b[43m        \u001b[49m\u001b[43mstart_page\u001b[49m\u001b[38;5;241;43m=\u001b[39;49m\u001b[43mpage_numbers\u001b[49m\u001b[43m[\u001b[49m\u001b[38;5;241;43m0\u001b[39;49m\u001b[43m]\u001b[49m\u001b[43m,\u001b[49m\n\u001b[1;32m     49\u001b[0m \u001b[43m        \u001b[49m\u001b[43mend_page\u001b[49m\u001b[38;5;241;43m=\u001b[39;49m\u001b[43mpage_numbers\u001b[49m\u001b[43m[\u001b[49m\u001b[38;5;241;43m1\u001b[39;49m\u001b[43m]\u001b[49m\n\u001b[1;32m     50\u001b[0m \u001b[43m    \u001b[49m\u001b[43m)\u001b[49m\n",
      "Input \u001b[0;32mIn [2]\u001b[0m, in \u001b[0;36mgenerate_audio_text\u001b[0;34m(pdf_object, chapter_name, start_page, end_page)\u001b[0m\n\u001b[1;32m     34\u001b[0m \u001b[38;5;66;03m# Safely format the file name (remove spaces and special characters)\u001b[39;00m\n\u001b[1;32m     35\u001b[0m file_name \u001b[38;5;241m=\u001b[39m \u001b[38;5;124mf\u001b[39m\u001b[38;5;124m\"\u001b[39m\u001b[38;5;132;01m{\u001b[39;00mchapter_name\u001b[38;5;241m.\u001b[39mreplace(\u001b[38;5;124m'\u001b[39m\u001b[38;5;124m \u001b[39m\u001b[38;5;124m'\u001b[39m, \u001b[38;5;124m'\u001b[39m\u001b[38;5;124m_\u001b[39m\u001b[38;5;124m'\u001b[39m)\u001b[38;5;132;01m}\u001b[39;00m\u001b[38;5;124m.mp3\u001b[39m\u001b[38;5;124m\"\u001b[39m\n\u001b[0;32m---> 37\u001b[0m \u001b[43mconvert_to_audio\u001b[49m\u001b[43m(\u001b[49m\u001b[43mtext\u001b[49m\u001b[43m,\u001b[49m\u001b[43m \u001b[49m\u001b[43mfile_name\u001b[49m\u001b[43m)\u001b[49m\n",
      "Input \u001b[0;32mIn [2]\u001b[0m, in \u001b[0;36mconvert_to_audio\u001b[0;34m(txt, file_name)\u001b[0m\n\u001b[1;32m     18\u001b[0m engine \u001b[38;5;241m=\u001b[39m pyttsx3\u001b[38;5;241m.\u001b[39minit()\n\u001b[1;32m     19\u001b[0m engine\u001b[38;5;241m.\u001b[39msave_to_file(txt, file_name)  \u001b[38;5;66;03m# Use 'txt' as the argument instead of 'text'\u001b[39;00m\n\u001b[0;32m---> 20\u001b[0m \u001b[43mengine\u001b[49m\u001b[38;5;241;43m.\u001b[39;49m\u001b[43mrunAndWait\u001b[49m\u001b[43m(\u001b[49m\u001b[43m)\u001b[49m\n\u001b[1;32m     21\u001b[0m engine\u001b[38;5;241m.\u001b[39mstop()\n",
      "File \u001b[0;32m~/opt/anaconda3/lib/python3.9/site-packages/pyttsx3/engine.py:186\u001b[0m, in \u001b[0;36mEngine.runAndWait\u001b[0;34m(self)\u001b[0m\n\u001b[1;32m    184\u001b[0m \u001b[38;5;28mself\u001b[39m\u001b[38;5;241m.\u001b[39m_inLoop \u001b[38;5;241m=\u001b[39m \u001b[38;5;28;01mTrue\u001b[39;00m\n\u001b[1;32m    185\u001b[0m \u001b[38;5;28mself\u001b[39m\u001b[38;5;241m.\u001b[39m_driverLoop \u001b[38;5;241m=\u001b[39m \u001b[38;5;28;01mTrue\u001b[39;00m\n\u001b[0;32m--> 186\u001b[0m \u001b[38;5;28;43mself\u001b[39;49m\u001b[38;5;241;43m.\u001b[39;49m\u001b[43mproxy\u001b[49m\u001b[38;5;241;43m.\u001b[39;49m\u001b[43mrunAndWait\u001b[49m\u001b[43m(\u001b[49m\u001b[43m)\u001b[49m\n",
      "File \u001b[0;32m~/opt/anaconda3/lib/python3.9/site-packages/pyttsx3/driver.py:196\u001b[0m, in \u001b[0;36mDriverProxy.runAndWait\u001b[0;34m(self)\u001b[0m\n\u001b[1;32m    191\u001b[0m \u001b[38;5;124;03m\"\"\"\u001b[39;00m\n\u001b[1;32m    192\u001b[0m \u001b[38;5;124;03mCalled by the engine to start an event loop, process all commands in\u001b[39;00m\n\u001b[1;32m    193\u001b[0m \u001b[38;5;124;03mthe queue at the start of the loop, and then exit the loop.\u001b[39;00m\n\u001b[1;32m    194\u001b[0m \u001b[38;5;124;03m\"\"\"\u001b[39;00m\n\u001b[1;32m    195\u001b[0m \u001b[38;5;28mself\u001b[39m\u001b[38;5;241m.\u001b[39m_push(\u001b[38;5;28mself\u001b[39m\u001b[38;5;241m.\u001b[39m_engine\u001b[38;5;241m.\u001b[39mendLoop, \u001b[38;5;28mtuple\u001b[39m())\n\u001b[0;32m--> 196\u001b[0m \u001b[38;5;28;43mself\u001b[39;49m\u001b[38;5;241;43m.\u001b[39;49m\u001b[43m_driver\u001b[49m\u001b[38;5;241;43m.\u001b[39;49m\u001b[43mstartLoop\u001b[49m\u001b[43m(\u001b[49m\u001b[43m)\u001b[49m\n",
      "File \u001b[0;32m~/opt/anaconda3/lib/python3.9/site-packages/pyttsx3/drivers/nsss.py:75\u001b[0m, in \u001b[0;36mNSSpeechDriver.startLoop\u001b[0;34m(self)\u001b[0m\n\u001b[1;32m     73\u001b[0m \u001b[38;5;28;01mif\u001b[39;00m nextfire \u001b[38;5;129;01mis\u001b[39;00m \u001b[38;5;129;01mnot\u001b[39;00m \u001b[38;5;28;01mNone\u001b[39;00m:\n\u001b[1;32m     74\u001b[0m     nextfire \u001b[38;5;241m=\u001b[39m soon\u001b[38;5;241m.\u001b[39mearlierDate_(nextfire)\n\u001b[0;32m---> 75\u001b[0m \u001b[38;5;28;01mif\u001b[39;00m \u001b[38;5;129;01mnot\u001b[39;00m \u001b[43mrunLoop\u001b[49m\u001b[38;5;241;43m.\u001b[39;49m\u001b[43mrunMode_beforeDate_\u001b[49m\u001b[43m(\u001b[49m\u001b[43mNSDefaultRunLoopMode\u001b[49m\u001b[43m,\u001b[49m\u001b[43m \u001b[49m\u001b[43mnextfire\u001b[49m\u001b[43m)\u001b[49m:\n\u001b[1;32m     76\u001b[0m     stopper\u001b[38;5;241m.\u001b[39mstop()\n\u001b[1;32m     77\u001b[0m     \u001b[38;5;28;01mbreak\u001b[39;00m\n",
      "\u001b[0;31mKeyboardInterrupt\u001b[0m: "
     ]
    }
   ],
   "source": [
    "chapter_dict = {\n",
    "    \"Basics of Derivatives\" : (11,18),\n",
    "    \"Understanding the Index\" : (18,27),\n",
    "    \"Introduction to Forwards and Futures\" : (27,55),\n",
    "    \"Introduction to Options\" : (55,87),\n",
    "    \"Strategies using Equity futures and Equity options\" : (87,124),\n",
    "    \"Trading Mechanism\" : (124,140),\n",
    "    \"Introduction to Clearing and Settlement System\" : (140,161),\n",
    "    \"Legal and Regulatory Environment\" : (161,170),\n",
    "    \"Accounting and Taxation\" : (170,182),\n",
    "    \"Sales Practices and Investors Protection Services\" : (182,195)\n",
    "    \n",
    "}\n",
    "\n",
    "\n",
    "def convert_to_audio(txt : str, file_name : str):\n",
    "    \"\"\"Convert the given text into speech and save it to an MP3 file.\"\"\"\n",
    "    engine = pyttsx3.init()\n",
    "    engine.save_to_file(txt, file_name)  # Use 'txt' as the argument instead of 'text'\n",
    "    engine.runAndWait()\n",
    "    engine.stop()\n",
    "\n",
    "    \n",
    "def generate_audio_text(pdf_object: PdfReader, chapter_name: str, start_page: int, end_page: int):\n",
    "    \"\"\"Extract text from specified pages of a PDF and convert it to audio.\"\"\"\n",
    "    print(f\"Chapter Name: {chapter_name}.mp3, starts_at={start_page}, ends_at={end_page}\")\n",
    "    text = \"\"\n",
    "    \n",
    "    for x in range(start_page, end_page):\n",
    "        page_text = pdf_object.pages[x].extract_text()\n",
    "        if page_text:  # Ensure there is text extracted from the page\n",
    "            text += page_text\n",
    "    \n",
    "    # Safely format the file name (remove spaces and special characters)\n",
    "    file_name = f\"{chapter_name.replace(' ', '_')}.mp3\"\n",
    "    \n",
    "    convert_to_audio(text, file_name)\n",
    "\n",
    "    \n",
    "def main():\n",
    "    \"\"\"Main function to read the PDF and convert chapters to audio.\"\"\"\n",
    "    reader = PdfReader(\"NISM Series VIII- Equity Derivatives Certification Examination Workbook - May 2023.pdf\")\n",
    "    \n",
    "    for chapter_name, page_numbers in chapter_dict.items():\n",
    "        generate_audio_text(\n",
    "            pdf_object=reader,\n",
    "            chapter_name=chapter_name, \n",
    "            start_page=page_numbers[0],\n",
    "            end_page=page_numbers[1]\n",
    "        )\n",
    "\n",
    "if __name__ == \"__main__\":\n",
    "    main()"
   ]
  },
  {
   "cell_type": "code",
   "execution_count": null,
   "id": "a2fa58f3",
   "metadata": {},
   "outputs": [],
   "source": [
    "PDF to Audio Converter V4\n",
    "\n",
    "This project is a Python script that converts chapters from a PDF workbook into audio files using text-to-speech (TTS) technology. The audio is generated for each chapter and saved as an MP3 file.\n",
    "\n",
    "Prerequisites:\n",
    "\n",
    "Before running the script, you will need to install the required libraries:\n",
    "\n",
    "pyttsx3 - For text-to-speech conversion.\n",
    "PyPDF2 - For reading PDF files and extracting text.\n",
    "You can install these libraries using pip:\n",
    "\n",
    "pip install pyttsx3 PyPDF2\n",
    "How It Works:\n",
    "\n",
    "Chapter Data:\n",
    "The script processes a pre-defined set of chapters, with each chapter having a specific range of pages defined in the chapter_dict. Each entry in the dictionary contains the chapter name and the start and end page numbers of that chapter.\n",
    "Text Extraction:\n",
    "The PdfReader from the PyPDF2 library is used to read the PDF. The text from the specified pages (defined in chapter_dict) is extracted from the PDF and stored as a string.\n",
    "Text-to-Speech Conversion:\n",
    "The extracted text is converted into speech using the pyttsx3 library. The text is saved as an MP3 file named after the chapter.\n",
    "Features:\n",
    "\n",
    "Converts PDF chapters to MP3 audio files.\n",
    "Supports multiple chapters with defined page ranges.\n",
    "Each chapter is saved as a separate MP3 file with the name of the chapter.\n",
    "How to Run:\n",
    "\n",
    "Download the Python script and the required PDF file: NISM Series VIII- Equity Derivatives Certification Examination Workbook - May 2023.pdf.\n",
    "Make sure you have the required libraries installed (use pip install pyttsx3 PyPDF2).\n",
    "Run the script:\n",
    "python script_name.py\n",
    "The script will generate MP3 files for each chapter in the same directory where the script is located.\n",
    "File Naming Convention:\n",
    "\n",
    "Each audio file will be named based on the chapter name, with spaces replaced by underscores. For example, the \"Basics of Derivatives\" chapter will be saved as Basics_of_Derivatives.mp3.\n",
    "\n",
    "Sample Output:\n",
    "\n",
    "Basics_of_Derivatives.mp3\n",
    "Understanding_the_Index.mp3\n",
    "Introduction_to_Forwards_and_Futures.mp3\n",
    "Troubleshooting:\n",
    "\n",
    "If the text extraction does not work well, ensure that the PDF is not encrypted or in an unusual format (e.g., scanned images). For scanned PDFs, consider using an OCR (Optical Character Recognition) tool to extract text.\n",
    "Ensure that the TTS engine is correctly set up. You may need to adjust the TTS voice and speech rate based on your system's settings."
   ]
  },
  {
   "cell_type": "code",
   "execution_count": null,
   "id": "b7870bbc",
   "metadata": {},
   "outputs": [],
   "source": []
  }
 ],
 "metadata": {
  "kernelspec": {
   "display_name": "Python 3 (ipykernel)",
   "language": "python",
   "name": "python3"
  },
  "language_info": {
   "codemirror_mode": {
    "name": "ipython",
    "version": 3
   },
   "file_extension": ".py",
   "mimetype": "text/x-python",
   "name": "python",
   "nbconvert_exporter": "python",
   "pygments_lexer": "ipython3",
   "version": "3.9.12"
  }
 },
 "nbformat": 4,
 "nbformat_minor": 5
}
